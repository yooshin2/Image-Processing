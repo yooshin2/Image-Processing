{
  "nbformat": 4,
  "nbformat_minor": 0,
  "metadata": {
    "colab": {
      "name": "NumpyPractice2.ipynb",
      "provenance": [],
      "collapsed_sections": [],
      "authorship_tag": "ABX9TyO2YB27LHkBF76XG9Oe/zgG",
      "include_colab_link": true
    },
    "kernelspec": {
      "name": "python3",
      "display_name": "Python 3"
    }
  },
  "cells": [
    {
      "cell_type": "markdown",
      "metadata": {
        "id": "view-in-github",
        "colab_type": "text"
      },
      "source": [
        "<a href=\"https://colab.research.google.com/github/yooshin2/Image-Processing/blob/main/NumpyPractice2.ipynb\" target=\"_parent\"><img src=\"https://colab.research.google.com/assets/colab-badge.svg\" alt=\"Open In Colab\"/></a>"
      ]
    },
    {
      "cell_type": "code",
      "metadata": {
        "id": "KQAcuz8USM74",
        "outputId": "028d27fc-6f4b-46b6-8845-176f54ca9768",
        "colab": {
          "base_uri": "https://localhost:8080/"
        }
      },
      "source": [
        "import numpy as np\n",
        "\n",
        "array1 = np.arange(4).reshape(1,4)\n",
        "array2 = np.arange(8).reshape(2,4)\n",
        "array3 = np.concatenate([array1, array2], axis=0)\n",
        "print(array3)"
      ],
      "execution_count": 2,
      "outputs": [
        {
          "output_type": "stream",
          "text": [
            "[[0 1 2 3]\n",
            " [0 1 2 3]\n",
            " [4 5 6 7]]\n"
          ],
          "name": "stdout"
        }
      ]
    },
    {
      "cell_type": "code",
      "metadata": {
        "id": "IxlsoyDoSP0_",
        "outputId": "5743bb3f-3621-400b-ad58-7c11acbd5506",
        "colab": {
          "base_uri": "https://localhost:8080/"
        }
      },
      "source": [
        "import numpy as np\n",
        "\n",
        "array1 = np.array([1, 2, 3, 4])\n",
        "array2 = array1.reshape(2, 2)\n",
        "print(array2)"
      ],
      "execution_count": 3,
      "outputs": [
        {
          "output_type": "stream",
          "text": [
            "[[1 2]\n",
            " [3 4]]\n"
          ],
          "name": "stdout"
        }
      ]
    },
    {
      "cell_type": "code",
      "metadata": {
        "id": "kvJ9Ma8_TRxf",
        "outputId": "de12b6fb-add1-43b6-9b9e-e66e2157d134",
        "colab": {
          "base_uri": "https://localhost:8080/"
        }
      },
      "source": [
        "import numpy as np\n",
        "\n",
        "array = np.random.randint(1, 10, size=4).reshape(2, 2)\n",
        "result_array = array * 10\n",
        "\n",
        "print(array)\n",
        "print(result_array)"
      ],
      "execution_count": 4,
      "outputs": [
        {
          "output_type": "stream",
          "text": [
            "[[6 4]\n",
            " [1 6]]\n",
            "[[60 40]\n",
            " [10 60]]\n"
          ],
          "name": "stdout"
        }
      ]
    },
    {
      "cell_type": "code",
      "metadata": {
        "id": "t7zLnXylTnmC",
        "outputId": "fa85c328-68db-4b4c-fd86-9f56774bba7d",
        "colab": {
          "base_uri": "https://localhost:8080/"
        }
      },
      "source": [
        "import numpy as np\n",
        "\n",
        "array1 = np.arange(4).reshape(2, 2)\n",
        "array2 = np.arange(2)\n",
        "array3 = array1 + array2\n",
        "\n",
        "print(array3)"
      ],
      "execution_count": 7,
      "outputs": [
        {
          "output_type": "stream",
          "text": [
            "[[0 2]\n",
            " [2 4]]\n"
          ],
          "name": "stdout"
        }
      ]
    },
    {
      "cell_type": "code",
      "metadata": {
        "id": "WD4UDYn6UK5E",
        "outputId": "cbf56db2-71c0-4b4e-f954-6149198aead0",
        "colab": {
          "base_uri": "https://localhost:8080/"
        }
      },
      "source": [
        "import numpy as np\n",
        "\n",
        "array1 = np.arange(8).reshape(2, 4)\n",
        "array2 = np.arange(8).reshape(2, 4)\n",
        "array3 = np.concatenate([array1, array2], axis=0)\n",
        "array4 = np.arange(4).reshape(4, 1)\n",
        "array5 = array3 + array4\n",
        "\n",
        "print(array5)"
      ],
      "execution_count": 13,
      "outputs": [
        {
          "output_type": "stream",
          "text": [
            "[[ 0  1  2  3]\n",
            " [ 5  6  7  8]\n",
            " [ 2  3  4  5]\n",
            " [ 7  8  9 10]]\n"
          ],
          "name": "stdout"
        }
      ]
    },
    {
      "cell_type": "code",
      "metadata": {
        "id": "QM8v2IlYWKv_",
        "outputId": "5f2d9b4b-52c1-4451-a869-8e00195e200e",
        "colab": {
          "base_uri": "https://localhost:8080/"
        }
      },
      "source": [
        "import numpy as np\n",
        "\n",
        "array1 = np.arange(16).reshape(4, 4)\n",
        "print(array1)\n",
        "\n",
        "print(array1 < 10)\n",
        "\n",
        "array1[array1 < 10] = 100\n",
        "print(array1)"
      ],
      "execution_count": 18,
      "outputs": [
        {
          "output_type": "stream",
          "text": [
            "[[ 0  1  2  3]\n",
            " [ 4  5  6  7]\n",
            " [ 8  9 10 11]\n",
            " [12 13 14 15]]\n",
            "[[ True  True  True  True]\n",
            " [ True  True  True  True]\n",
            " [ True  True False False]\n",
            " [False False False False]]\n",
            "[[100 100 100 100]\n",
            " [100 100 100 100]\n",
            " [100 100  10  11]\n",
            " [ 12  13  14  15]]\n"
          ],
          "name": "stdout"
        }
      ]
    },
    {
      "cell_type": "code",
      "metadata": {
        "id": "jhnujz3-Woqb",
        "outputId": "34da6e83-8092-43c2-9aa2-953b5de722ef",
        "colab": {
          "base_uri": "https://localhost:8080/"
        }
      },
      "source": [
        "import numpy as np\n",
        "\n",
        "array = np.arange(4)\n",
        "\n",
        "print(\"최댓값\", np.max(array))\n",
        "print(\"최솟값\", np.min(array))\n",
        "print(\"합계\", np.sum(array))\n",
        "print(\"평균\", np.mean(array))"
      ],
      "execution_count": 25,
      "outputs": [
        {
          "output_type": "stream",
          "text": [
            "최댓값 3\n",
            "최솟값 0\n",
            "합계 6\n",
            "평균 1.5\n"
          ],
          "name": "stdout"
        }
      ]
    },
    {
      "cell_type": "code",
      "metadata": {
        "id": "9ZjzBOGBbrqG",
        "outputId": "16fac4ab-622e-4e64-99b3-5fabe0cc0953",
        "colab": {
          "base_uri": "https://localhost:8080/"
        }
      },
      "source": [
        "import numpy as np\n",
        "\n",
        "array = np.arange(16).reshape(4, 4)\n",
        "\n",
        "print(array)\n",
        "\n",
        "print(\"합계\", np.sum(array, axis = 0))"
      ],
      "execution_count": 29,
      "outputs": [
        {
          "output_type": "stream",
          "text": [
            "[[ 0  1  2  3]\n",
            " [ 4  5  6  7]\n",
            " [ 8  9 10 11]\n",
            " [12 13 14 15]]\n",
            "합계 [24 28 32 36]\n"
          ],
          "name": "stdout"
        }
      ]
    },
    {
      "cell_type": "code",
      "metadata": {
        "id": "8q7abFxfcgGT",
        "outputId": "9a358225-edab-4035-940c-6e00b9089cba",
        "colab": {
          "base_uri": "https://localhost:8080/"
        }
      },
      "source": [
        "import numpy as np\n",
        "\n",
        "array = np.arange(10)\n",
        "np.save('saved.npy', array)\n",
        "\n",
        "result = np.load('saved.npy')\n",
        "print(result)"
      ],
      "execution_count": 32,
      "outputs": [
        {
          "output_type": "stream",
          "text": [
            "[0 1 2 3 4 5 6 7 8 9]\n"
          ],
          "name": "stdout"
        }
      ]
    },
    {
      "cell_type": "code",
      "metadata": {
        "id": "1d3AWviHcysd",
        "outputId": "1ca69578-5eb7-4035-a9b2-e4a705cc324c",
        "colab": {
          "base_uri": "https://localhost:8080/"
        }
      },
      "source": [
        "import numpy as np\n",
        "\n",
        "array1 = np.arange(0, 10)\n",
        "array2 = np.arange(10, 20)\n",
        "np.savez('saved.npz', array1 = array1, array2 = array2)\n",
        "\n",
        "result = np.load('saved.npz')\n",
        "result1 = result['array1']\n",
        "result2 = result['array2']\n",
        "\n",
        "print(result1)\n",
        "print(result2)"
      ],
      "execution_count": 42,
      "outputs": [
        {
          "output_type": "stream",
          "text": [
            "[0 1 2 3 4 5 6 7 8 9]\n",
            "[10 11 12 13 14 15 16 17 18 19]\n"
          ],
          "name": "stdout"
        }
      ]
    },
    {
      "cell_type": "code",
      "metadata": {
        "id": "jeB5ACm6d7le",
        "outputId": "f2879daf-3cfe-43e1-e448-fd907cf0f2e4",
        "colab": {
          "base_uri": "https://localhost:8080/"
        }
      },
      "source": [
        "import numpy as np\n",
        "\n",
        "array = np.array([7, 9, 10, 1, 4, 6])\n",
        "array.sort()\n",
        "print(array)\n",
        "\n",
        "array = array[::-1]\n",
        "print(array)\n",
        "\n",
        "array = np.array([[5, 7, 1, 3, 6], [10, 8, 2, 6, 4]])\n",
        "print(array)\n",
        "array.sort(axis = 0)\n",
        "print(array)"
      ],
      "execution_count": 68,
      "outputs": [
        {
          "output_type": "stream",
          "text": [
            "[ 1  4  6  7  9 10]\n",
            "[10  9  7  6  4  1]\n",
            "[[ 5  7  1  3  6]\n",
            " [10  8  2  6  4]]\n",
            "[[ 5  7  1  3  4]\n",
            " [10  8  2  6  6]]\n"
          ],
          "name": "stdout"
        }
      ]
    },
    {
      "cell_type": "code",
      "metadata": {
        "id": "blizsbozmhbW",
        "outputId": "59566453-2a1d-4666-9924-f53ce69123cc",
        "colab": {
          "base_uri": "https://localhost:8080/"
        }
      },
      "source": [
        "import numpy as np\n",
        "\n",
        "array = np.linspace(0, 10, 5)\n",
        "print(array)\n",
        "\n",
        "np.random.seed(4)\n",
        "print(np.random.randint(0, 10, (2, 3)))\n",
        "\n",
        "array1 = np.arange(10)\n",
        "array2 = array1\n",
        "array2[0] = 99\n",
        "print(array1)\n",
        "\n",
        "array3 = np.arange(10)\n",
        "array4 = array3.copy()\n",
        "array4[3] =100\n",
        "print(array3)\n",
        "\n",
        "array5 = np.array([1, 3, 3, 5, 5, 1])\n",
        "print(np.unique(array5))"
      ],
      "execution_count": 89,
      "outputs": [
        {
          "output_type": "stream",
          "text": [
            "[ 0.   2.5  5.   7.5 10. ]\n",
            "[[7 5 1]\n",
            " [8 7 8]]\n",
            "[99  1  2  3  4  5  6  7  8  9]\n",
            "[0 1 2 3 4 5 6 7 8 9]\n",
            "[1 3 5]\n"
          ],
          "name": "stdout"
        }
      ]
    }
  ]
}