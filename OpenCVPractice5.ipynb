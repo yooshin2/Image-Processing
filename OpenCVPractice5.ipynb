{
  "nbformat": 4,
  "nbformat_minor": 0,
  "metadata": {
    "colab": {
      "name": "OpenCVPractice5.ipynb",
      "provenance": [],
      "collapsed_sections": [],
      "authorship_tag": "ABX9TyPlvHxmrgtAU7ZVpRfK7X6H",
      "include_colab_link": true
    },
    "kernelspec": {
      "name": "python3",
      "display_name": "Python 3"
    }
  },
  "cells": [
    {
      "cell_type": "markdown",
      "metadata": {
        "id": "view-in-github",
        "colab_type": "text"
      },
      "source": [
        "<a href=\"https://colab.research.google.com/github/yooshin2/Image-Processing/blob/main/OpenCVPractice5.ipynb\" target=\"_parent\"><img src=\"https://colab.research.google.com/assets/colab-badge.svg\" alt=\"Open In Colab\"/></a>"
      ]
    },
    {
      "cell_type": "markdown",
      "metadata": {
        "id": "e2emp-7Wrutc"
      },
      "source": [
        "PyCharm 실습"
      ]
    },
    {
      "cell_type": "code",
      "metadata": {
        "id": "B_vERVggOVJq"
      },
      "source": [
        "import cv2\n",
        "import numpy as np\n",
        "\n",
        "def onChange(x):\n",
        "  r = cv2.getTrackbarPos(\"R\", \"Image\")\n",
        "  g = cv2.getTrackbarPos(\"G\", \"Image\")\n",
        "  b = cv2.getTrackbarPos(\"B\", \"Image\")\n",
        "  image[:] = [b, g, r]\n",
        "  cv2.imshow('Image', image)\n",
        "  \n",
        "image = np.zeros((600, 400, 3), np.uint8)\n",
        "cv2.namedWindow(\"Image\")\n",
        "\n",
        "cv2.createTrackbar(\"R\", \"Image\", 0, 255, onChange)\n",
        "cv2.createTrackbar(\"G\", \"Image\", 0, 255, onChange)\n",
        "cv2.createTrackbar(\"B\", \"Image\", 0, 255, onChange)\n",
        "\n",
        "cv2.imshow('Image', image)\n",
        "cv2.waitKey(0)\n"
      ],
      "execution_count": null,
      "outputs": []
    },
    {
      "cell_type": "code",
      "metadata": {
        "id": "IEfLqwIJebmn"
      },
      "source": [
        "import cv2\n",
        "import numpy as np\n",
        "\n",
        "def nothing(x):\n",
        "    pass\n",
        "\n",
        "image = np.zeros((600, 400, 3), np.uint8)\n",
        "cv2.namedWindow('Image')\n",
        "\n",
        "cv2.createTrackbar('R', 'Image', 0, 255, nothing)\n",
        "cv2.createTrackbar('G', 'Image', 0, 255, nothing)\n",
        "cv2.createTrackbar('B', 'Image', 0, 255, nothing)\n",
        "\n",
        "while(1):\n",
        "    cv2.imshow('Image', image)\n",
        "\n",
        "    if cv2.waitKey(1) & 0xFF == 27:\n",
        "        break\n",
        "\n",
        "    r = cv2.getTrackbarPos('R','Image')\n",
        "    g = cv2.getTrackbarPos('G', 'Image')\n",
        "    b = cv2.getTrackbarPos('B', 'Image')\n",
        "\n",
        "    image[:] = [b, g, r] \n",
        "\n",
        "cv2.destroyAllWindows()"
      ],
      "execution_count": null,
      "outputs": []
    }
  ]
}