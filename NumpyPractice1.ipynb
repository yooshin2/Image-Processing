{
  "nbformat": 4,
  "nbformat_minor": 0,
  "metadata": {
    "colab": {
      "name": "NumpyPractice1.ipynb",
      "provenance": [],
      "collapsed_sections": [],
      "authorship_tag": "ABX9TyOhkKdieyj/Ye0VUFrHO/CJ",
      "include_colab_link": true
    },
    "kernelspec": {
      "name": "python3",
      "display_name": "Python 3"
    }
  },
  "cells": [
    {
      "cell_type": "markdown",
      "metadata": {
        "id": "view-in-github",
        "colab_type": "text"
      },
      "source": [
        "<a href=\"https://colab.research.google.com/github/yooshin2/Image-Processing/blob/main/NumpyPractice1.ipynb\" target=\"_parent\"><img src=\"https://colab.research.google.com/assets/colab-badge.svg\" alt=\"Open In Colab\"/></a>"
      ]
    },
    {
      "cell_type": "code",
      "metadata": {
        "id": "GDseLHHckzIy",
        "outputId": "c86e3d5a-3373-4cee-ccc1-031f90789d93",
        "colab": {
          "base_uri": "https://localhost:8080/"
        }
      },
      "source": [
        "import numpy as np\n",
        "\n",
        "array = np.array([1, 2, 3])\n",
        "print(array.size)\n",
        "print(array.dtype)\n",
        "print(array[1])"
      ],
      "execution_count": 12,
      "outputs": [
        {
          "output_type": "stream",
          "text": [
            "3\n",
            "int64\n",
            "2\n"
          ],
          "name": "stdout"
        }
      ]
    },
    {
      "cell_type": "code",
      "metadata": {
        "id": "6abesdbS1iZw",
        "outputId": "44ac180c-0b53-4cee-f015-27d053f18d40",
        "colab": {
          "base_uri": "https://localhost:8080/"
        }
      },
      "source": [
        "import numpy as np\n",
        "\n",
        "array1 = np.arange(4)\n",
        "print(array1)\n",
        "\n",
        "array2 = np.zeros((4, 4), dtype=int)\n",
        "print(array2)\n",
        "\n",
        "array3 = np.ones((4, 4), dtype=str)\n",
        "print(array3)\n",
        "\n",
        "array4 = np.random.randint(0, 10, (3,3))\n",
        "print(array4)\n",
        "\n",
        "array5 = np.random.normal(0, 1, (3, 3))\n",
        "print(array5)"
      ],
      "execution_count": 26,
      "outputs": [
        {
          "output_type": "stream",
          "text": [
            "[0 1 2 3]\n",
            "[[0 0 0 0]\n",
            " [0 0 0 0]\n",
            " [0 0 0 0]\n",
            " [0 0 0 0]]\n",
            "[['1' '1' '1' '1']\n",
            " ['1' '1' '1' '1']\n",
            " ['1' '1' '1' '1']\n",
            " ['1' '1' '1' '1']]\n",
            "[[5 6 7]\n",
            " [8 0 5]\n",
            " [8 8 2]]\n",
            "[[-0.58797914 -1.19774589 -0.77732859]\n",
            " [-1.13409693 -0.97458446 -1.18357884]\n",
            " [ 0.25574265 -0.20361638 -0.28461536]]\n"
          ],
          "name": "stdout"
        }
      ]
    },
    {
      "cell_type": "code",
      "metadata": {
        "id": "glp4-5ln3ATg",
        "outputId": "a926510d-258f-4854-db33-b74bcd7a8840",
        "colab": {
          "base_uri": "https://localhost:8080/"
        }
      },
      "source": [
        "import numpy as np\n",
        "\n",
        "array1 = np.array([1, 2, 3])\n",
        "array2 = np.array([4, 5, 6])\n",
        "array3 = np.concatenate([array1, array2])\n",
        "print(array3)"
      ],
      "execution_count": 37,
      "outputs": [
        {
          "output_type": "stream",
          "text": [
            "[1 2 3 4 5 6]\n"
          ],
          "name": "stdout"
        }
      ]
    },
    {
      "cell_type": "code",
      "metadata": {
        "id": "PO31rOIn3jTw",
        "outputId": "4b0dce49-23d3-4212-cffd-a68ccfe2a323",
        "colab": {
          "base_uri": "https://localhost:8080/"
        }
      },
      "source": [
        "import numpy as np\n",
        "\n",
        "array1 = np.arange(4).reshape(1,4)\n",
        "array2 = np.arange(8).reshape(2,4)\n",
        "array3 = np.concatenate([array1, array2], axis=0)\n",
        "print(array3)"
      ],
      "execution_count": 34,
      "outputs": [
        {
          "output_type": "stream",
          "text": [
            "[[0 1 2 3]\n",
            " [0 1 2 3]\n",
            " [4 5 6 7]]\n"
          ],
          "name": "stdout"
        }
      ]
    }
  ]
}